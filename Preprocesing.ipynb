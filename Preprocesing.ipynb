{
 "cells": [
  {
   "cell_type": "code",
   "execution_count": 0,
   "metadata": {
    "colab": {},
    "colab_type": "code",
    "id": "2Y2LRzrrjZ9o"
   },
   "outputs": [],
   "source": [
    "%matplotlib inline\n",
    "import matplotlib.pyplot as plt\n",
    "import pandas as pd\n",
    "import numpy as np\n",
    "import spacy\n",
    "import pickle\n",
    "import nltk\n",
    "import os\n",
    "import sklearn.manifold\n",
    "from collections import Counter\n",
    "from nltk.cluster import kmeans, cosine_distance\n",
    "import spacy.cli\n",
    "import re"
   ]
  },
  {
   "cell_type": "code",
   "execution_count": 3,
   "metadata": {
    "colab": {
     "base_uri": "https://localhost:8080/",
     "height": 129
    },
    "colab_type": "code",
    "id": "ap9bP578j1lf",
    "outputId": "82d5eb01-e1c1-4e64-9c9d-105ca1befa1d"
   },
   "outputs": [
    {
     "name": "stdout",
     "output_type": "stream",
     "text": [
      "Go to this URL in a browser: https://accounts.google.com/o/oauth2/auth?client_id=947318989803-6bn6qk8qdgf4n4g3pfee6491hc0brc4i.apps.googleusercontent.com&redirect_uri=urn%3Aietf%3Awg%3Aoauth%3A2.0%3Aoob&scope=email%20https%3A%2F%2Fwww.googleapis.com%2Fauth%2Fdocs.test%20https%3A%2F%2Fwww.googleapis.com%2Fauth%2Fdrive%20https%3A%2F%2Fwww.googleapis.com%2Fauth%2Fdrive.photos.readonly%20https%3A%2F%2Fwww.googleapis.com%2Fauth%2Fpeopleapi.readonly&response_type=code\n",
      "\n",
      "Enter your authorization code:\n",
      "··········\n",
      "Mounted at /content/drive\n"
     ]
    }
   ],
   "source": [
    "from google.colab import drive\n",
    "drive.mount('/content/drive')"
   ]
  },
  {
   "cell_type": "code",
   "execution_count": 4,
   "metadata": {
    "colab": {
     "base_uri": "https://localhost:8080/",
     "height": 182
    },
    "colab_type": "code",
    "id": "u_xs1HRglM0P",
    "outputId": "ef63b8be-4622-4ef0-b4cc-5732cdbd4bda"
   },
   "outputs": [
    {
     "name": "stdout",
     "output_type": "stream",
     "text": [
      "\u001b[38;5;2m✔ Download and installation successful\u001b[0m\n",
      "You can now load the model via spacy.load('es_core_news_sm')\n",
      "\u001b[38;5;2m✔ Linking successful\u001b[0m\n",
      "/usr/local/lib/python3.6/dist-packages/es_core_news_sm -->\n",
      "/usr/local/lib/python3.6/dist-packages/spacy/data/es\n",
      "You can now load the model via spacy.load('es')\n",
      "[nltk_data] Downloading package punkt to /root/nltk_data...\n",
      "[nltk_data]   Unzipping tokenizers/punkt.zip.\n"
     ]
    },
    {
     "data": {
      "text/plain": [
       "True"
      ]
     },
     "execution_count": 4,
     "metadata": {
      "tags": []
     },
     "output_type": "execute_result"
    }
   ],
   "source": [
    "spacy.cli.download(\"es\")\n",
    "nltk.download(\"punkt\")"
   ]
  },
  {
   "cell_type": "code",
   "execution_count": 0,
   "metadata": {
    "colab": {},
    "colab_type": "code",
    "id": "Krn9W4-qjemj"
   },
   "outputs": [],
   "source": [
    "nlp = spacy.load('es', vectors=False, entity=False)"
   ]
  },
  {
   "cell_type": "code",
   "execution_count": 43,
   "metadata": {
    "colab": {},
    "colab_type": "code",
    "id": "I7JvOx0mjfCS"
   },
   "outputs": [],
   "source": [
    "dataset= \"\"\n",
    "p = 0\n",
    "for i in range(28):\n",
    "    if i+1 < 10:\n",
    "        path = \"Periodico_castella/text_spa/2004-05-0\"+str(i+1)+\"/\"\n",
    "    else:\n",
    "        path = \"Periodico_castella/text_spa/2004-05-\"+str(i+1)+\"/\"\n",
    "    for filename in os.listdir(path):\n",
    "        if \"19\" in filename:\n",
    "            continue\n",
    "        text_file = open(path+filename, \"r\", encoding='ISO-8859-1')\n",
    "        text = text_file.read()\n",
    "        if len(text) > 50:\n",
    "            p = p +1\n",
    "            dataset += text\n",
    "        text_file.close()\n",
    "\n",
    "sentences = nltk.sent_tokenize(dataset.replace(\"\\n\", \" --- \").replace(\"---\",\".\").replace(\" .\",\"\"))\n",
    "with  open(\"periodico\", \"w\", encoding='ISO-8859-1') as f:\n",
    "    f.write(dataset.replace(\"\\n\", \" --- \").replace(\"---\",\".\").replace(\" .\",\"\"))\n",
    "spacy_stopwords = spacy.lang.es.stop_words.STOP_WORDS"
   ]
  },
  {
   "cell_type": "code",
   "execution_count": 44,
   "metadata": {
    "colab": {},
    "colab_type": "code",
    "id": "fLV-ihhAnXPu"
   },
   "outputs": [],
   "source": [
    "def parse_tags(word):\n",
    "    tags = word.tag_[len(word.pos_) + 2:]\n",
    "    tags = tags.split(\"|\")\n",
    "    return tags"
   ]
  },
  {
   "cell_type": "code",
   "execution_count": 45,
   "metadata": {
    "colab": {
     "base_uri": "https://localhost:8080/",
     "height": 54
    },
    "colab_type": "code",
    "id": "K4huf8FZjfP-",
    "outputId": "5a0cfcad-b34a-4cbd-f924-3341f700cc0e"
   },
   "outputs": [
    {
     "name": "stdout",
     "output_type": "stream",
     "text": [
      "CPU times: user 2min 29s, sys: 2.33 s, total: 2min 31s\n",
      "Wall time: 2min 41s\n"
     ]
    }
   ],
   "source": [
    "%%time\n",
    "doc= []\n",
    "dicc = {}\n",
    "lista = []\n",
    "word_id = 0\n",
    "words = []\n",
    "threshold_w = 50\n",
    "threshold_c = 50\n",
    "for sent in sentences:\n",
    "    if len(sent) > 30:\n",
    "        doc = nlp(sent)\n",
    "        for word in doc:\n",
    "            if word in spacy_stopwords:\n",
    "                continue\n",
    "            words.append(word)\n",
    "            w = word.lemma_\n",
    "            if not word.is_alpha or str.isdigit(w):\n",
    "                continue\n",
    "            if not w in dicc:\n",
    "                features = {}\n",
    "                features[\"count\"] = 1\n",
    "            else:\n",
    "                features = dicc[w]\n",
    "                features[\"count\"] +=1\n",
    "            \n",
    "        \n",
    "            pos = \"POS__\" + word.pos_\n",
    "            if not pos in features:\n",
    "                features[pos] = 0\n",
    "            features[pos] += 1\n",
    "\n",
    "            dep = \"DEP__\" + word.dep_\n",
    "            if not dep in features:\n",
    "                features[dep] = 0\n",
    "            features[dep] += 1\n",
    "\n",
    "            tags = parse_tags(word)\n",
    "            for tag in tags:\n",
    "                if not tag in features:\n",
    "                    features[tag] = 0\n",
    "                features[tag] += 1\n",
    "                \n",
    "            for wod in doc:\n",
    "                if not word.i == wod.i and not word == wod:\n",
    "                    wod_lemma = wod.lemma_\n",
    "                    if wod.is_alpha:\n",
    "                        if str.isdigit(wod_lemma):\n",
    "                            wod_lemma = \"NUM__\"\n",
    "                        if not wod_lemma in features:\n",
    "                            features[wod_lemma] = 0\n",
    "                        features[wod_lemma] += 1\n",
    "\n",
    "\n",
    "            word_id += 1\n",
    "\n",
    "            dicc[w] = features"
   ]
  },
  {
   "cell_type": "code",
   "execution_count": 46,
   "metadata": {
    "colab": {
     "base_uri": "https://localhost:8080/",
     "height": 1000
    },
    "colab_type": "code",
    "id": "xaNdaAHRmcpa",
    "outputId": "6d753031-b999-4fb7-ccd3-41f4cb555724"
   },
   "outputs": [
    {
     "name": "stdout",
     "output_type": "stream",
     "text": [
      "La 548\n",
      "de 7497\n",
      "EEUU 90\n",
      "lo 6007\n",
      "seguridad 50\n",
      "El 684\n",
      "estadounidense 51\n",
      "el 3568\n",
      "más 465\n",
      "importante 43\n",
      "desde 104\n",
      "segundar 57\n",
      "guerra 52\n",
      "poder 296\n",
      "a 2062\n",
      "si 117\n",
      "no 788\n",
      "se 1262\n",
      "tomar 47\n",
      "medir 42\n",
      "alto 46\n",
      "responsable 54\n",
      "este 445\n",
      "ante 65\n",
      "sobrar 180\n",
      "los 1138\n",
      "haber 1005\n",
      "uno 2274\n",
      "sin 127\n",
      "soldar 38\n",
      "y 2437\n",
      "ser 1419\n",
      "llamar 36\n",
      "parir 706\n",
      "participar 31\n",
      "en 2852\n",
      "del 1681\n",
      "o 182\n",
      "ir 98\n",
      "Irak 80\n",
      "marcar 31\n",
      "Los 175\n",
      "que 3579\n",
      "seguir 100\n",
      "situación 55\n",
      "realizar 42\n",
      "vez 102\n",
      "país 89\n",
      "al 655\n",
      "con 964\n",
      "BARCELONA 103\n",
      "Catalunya 97\n",
      "ofrecer 46\n",
      "su 901\n",
      "nuevo 162\n",
      "obrar 69\n",
      "europeo 44\n",
      "e 86\n",
      "medio 71\n",
      "mujer 71\n",
      "lugar 57\n",
      "partir 214\n",
      "José 51\n",
      "cultura 34\n",
      "recordar 47\n",
      "músico 33\n",
      "llevar 79\n",
      "año 300\n",
      "propio 54\n",
      "temer 38\n",
      "todo 280\n",
      "trabajar 86\n",
      "perder 34\n",
      "cuando 133\n",
      "él 107\n",
      "estar 378\n",
      "Por 66\n",
      "ese 191\n",
      "hacer 366\n",
      "seis 41\n",
      "quedar 38\n",
      "problema 49\n",
      "mientras 51\n",
      "comer 451\n",
      "otro 241\n",
      "por 980\n",
      "librar 40\n",
      "mismo 121\n",
      "director 93\n",
      "querer 97\n",
      "disponer 33\n",
      "programar 51\n",
      "antes 81\n",
      "También 41\n",
      "primero 92\n",
      "Barcelona 129\n",
      "semana 58\n",
      "público 121\n",
      "salir 55\n",
      "dejar 72\n",
      "británico 38\n",
      "publicar 33\n",
      "ayer 259\n",
      "diario 43\n",
      "LA 79\n",
      "político 102\n",
      "DE 127\n",
      "do 154\n",
      "preso 48\n",
      "cárcel 40\n",
      "contra 73\n",
      "único 45\n",
      "reducir 31\n",
      "principal 31\n",
      "mediar 37\n",
      "Madrid 97\n",
      "coser 37\n",
      "hombre 54\n",
      "ley 33\n",
      "Estado 33\n",
      "En 251\n",
      "casar 102\n",
      "jugar 41\n",
      "denunciar 39\n",
      "caro 30\n",
      "mostrar 69\n",
      "encontrar 102\n",
      "también 166\n",
      "siempre 40\n",
      "provocar 36\n",
      "﻿1 72\n",
      "momento 55\n",
      "Es 73\n",
      "pedir 58\n",
      "general 77\n",
      "dirigir 38\n",
      "diálogo 37\n",
      "menos 68\n",
      "Lo 43\n",
      "sí 34\n",
      "conseguir 32\n",
      "De 63\n",
      "bueno 58\n",
      "entrar 256\n",
      "ellos 54\n",
      "vida 69\n",
      "celebrar 40\n",
      "pasar 188\n",
      "punto 59\n",
      "tres 96\n",
      "grande 40\n",
      "mejor 49\n",
      "Y 137\n",
      "tener 353\n",
      "cómo 31\n",
      "familia 40\n",
      "gran 78\n",
      "formato 47\n",
      "mejorar 32\n",
      "quien 69\n",
      "asegurar 80\n",
      "información 34\n",
      "pero 197\n",
      "presentar 69\n",
      "día 129\n",
      "noche 50\n",
      "decir 218\n",
      "me 63\n",
      "ya 182\n",
      "Este 34\n",
      "producir 36\n",
      "Una 64\n",
      "tanto 49\n",
      "Joan 32\n",
      "utilizar 35\n",
      "sino 56\n",
      "acto 30\n",
      "abrir 59\n",
      "televisión 32\n",
      "Fòrum 96\n",
      "asir 54\n",
      "EN 57\n",
      "prisión 45\n",
      "resultar 47\n",
      "durante 72\n",
      "cuatro 61\n",
      "hora 91\n",
      "mantener 57\n",
      "unir 100\n",
      "centrar 52\n",
      "tras 70\n",
      "tardar 35\n",
      "Según 52\n",
      "donde 88\n",
      "alguno 110\n",
      "intentar 42\n",
      "ver 84\n",
      "le 186\n",
      "poco 61\n",
      "presenciar 31\n",
      "creer 36\n",
      "Si 31\n",
      "llegar 92\n",
      "servicio 54\n",
      "policía 40\n",
      "especial 32\n",
      "EL 140\n",
      "contar 70\n",
      "vía 30\n",
      "nuestro 33\n",
      "después 93\n",
      "mi 30\n",
      "porque 111\n",
      "tratar 52\n",
      "ganar 44\n",
      "millón 131\n",
      "euro 125\n",
      "permitir 36\n",
      "cerrar 39\n",
      "peseta 52\n",
      "según 109\n",
      "esperar 43\n",
      "hasta 136\n",
      "algo 39\n",
      "parecer 62\n",
      "destacar 39\n",
      "cuyo 35\n",
      "subir 34\n",
      "mercar 30\n",
      "final 62\n",
      "poner 92\n",
      "tiempo 68\n",
      "tan 41\n",
      "PERIÓDICO 44\n",
      "actual 38\n",
      "preciar 36\n",
      "película 37\n",
      "sólo 150\n",
      "pequeño 31\n",
      "vivir 67\n",
      "pesar 47\n",
      "A 103\n",
      "Al 56\n",
      "autor 45\n",
      "novelar 31\n",
      "incluir 50\n",
      "nombrar 31\n",
      "último 87\n",
      "papel 37\n",
      "mayor 44\n",
      "equipar 43\n",
      "Gobierno 111\n",
      "No 84\n",
      "ni 77\n",
      "ministro 37\n",
      "relacionar 33\n",
      "acordar 43\n",
      "dar 124\n",
      "citar 41\n",
      "técnico 39\n",
      "secretario 38\n",
      "posible 31\n",
      "Govern 49\n",
      "hoy 74\n",
      "bien 53\n",
      "existir 36\n",
      "recibir 48\n",
      "añadir 40\n",
      "Pero 78\n",
      "elección 33\n",
      "deber 129\n",
      "ahora 90\n",
      "hablar 46\n",
      "catalán 109\n",
      "Información 35\n",
      "disponible 38\n",
      "archivar 33\n",
      "Las 107\n",
      "vestir 41\n",
      "volver 59\n",
      "alcalde 44\n",
      "CiU 48\n",
      "PP 43\n",
      "Generalitat 57\n",
      "presidente 110\n",
      "les 54\n",
      "ejemplo 36\n",
      "gente 33\n",
      "próximo 52\n",
      "visitar 30\n",
      "real 36\n",
      "casi 48\n",
      "formar 87\n",
      "empresa 52\n",
      "cada 62\n",
      "cincar 46\n",
      "organización 47\n",
      "líneo 34\n",
      "plaza 40\n",
      "Para 49\n",
      "coche 34\n",
      "pagar 44\n",
      "usar 40\n",
      "joven 45\n",
      "frente 32\n",
      "cambiar 63\n",
      "Barça 33\n",
      "mañana 37\n",
      "DEL 45\n",
      "afectar 46\n",
      "historia 42\n",
      "plan 52\n",
      "Con 39\n",
      "informar 62\n",
      "suponer 47\n",
      "Además 39\n",
      "derecho 41\n",
      "ciudad 83\n",
      "zona 48\n",
      "prever 47\n",
      "número 53\n",
      "morir 42\n",
      "mesar 48\n",
      "hijo 41\n",
      "sentir 54\n",
      "víctima 36\n",
      "viajar 35\n",
      "cargar 44\n",
      "indicar 30\n",
      "mucho 89\n",
      "considerar 40\n",
      "España 94\n",
      "qué 40\n",
      "acabar 64\n",
      "personar 90\n",
      "invitar 32\n",
      "demostrar 31\n",
      "bajar 48\n",
      "The 36\n",
      "tipo 33\n",
      "Se 34\n",
      "iniciar 44\n",
      "éxito 30\n",
      "mundo 78\n",
      "sufrir 31\n",
      "saber 52\n",
      "funcionar 30\n",
      "Un 69\n",
      "muy 90\n",
      "decidir 30\n",
      "aun 33\n",
      "estudiar 30\n",
      "listo 35\n",
      "embargar 42\n",
      "aumentar 32\n",
      "reconocer 40\n",
      "explicar 91\n",
      "convertir 42\n",
      "grupo 41\n",
      "además 51\n",
      "niño 40\n",
      "recinto 31\n",
      "falto 33\n",
      "portavoz 45\n",
      "anterior 36\n",
      "aunque 92\n",
      "ninguno 54\n",
      "fuente 32\n",
      "conseller 31\n",
      "afirmar 49\n",
      "oficial 36\n",
      "francés 30\n",
      "declaración 30\n",
      "Zapatero 37\n",
      "futuro 34\n",
      "Europa 51\n",
      "debatir 47\n",
      "obligar 33\n",
      "vecino 33\n",
      "ciudadano 39\n",
      "militar 55\n",
      "iraquí 58\n",
      "torturar 43\n",
      "imagen 34\n",
      "proponer 33\n",
      "lengua 32\n",
      "españolar 58\n",
      "social 37\n",
      "sistema 30\n",
      "MADRID 30\n",
      "nunca 32\n",
      "anunciar 56\n",
      "privar 34\n",
      "acusar 30\n",
      "conocer 52\n",
      "nadar 40\n",
      "vivienda 37\n",
      "económico 31\n",
      "UE 34\n",
      "decisión 33\n",
      "boda 32\n"
     ]
    }
   ],
   "source": [
    "threshold_w = 30\n",
    "tail_off = dict(filter(lambda elem: elem[1][\"count\"] >= threshold_w,dicc.items()))\n",
    "for key in tail_off:\n",
    "    print(key,tail_off[key][\"count\"])"
   ]
  },
  {
   "cell_type": "code",
   "execution_count": 47,
   "metadata": {
    "colab": {
     "base_uri": "https://localhost:8080/",
     "height": 54
    },
    "colab_type": "code",
    "id": "cdhSvaFgsvRy",
    "outputId": "a62a8161-dd68-49cc-9d4e-2878cdcb4361"
   },
   "outputs": [
    {
     "name": "stdout",
     "output_type": "stream",
     "text": [
      "CPU times: user 1.11 s, sys: 28.3 ms, total: 1.13 s\n",
      "Wall time: 1.23 s\n"
     ]
    }
   ],
   "source": [
    "%%time\n",
    "for d in tail_off:\n",
    "#    del dicc[d][\"count\"]\n",
    "    banned = []\n",
    "    for word in tail_off[d]:\n",
    "        if word == \"count\" or \"__\" in word or \"=\" in word or word == '_':\n",
    "            continue\n",
    "        if dicc[word]['count'] <= 75:\n",
    "            banned.append(word)\n",
    "    for word in banned:\n",
    "        del dicc[d][word]\n",
    "#for d in tail_off:\n",
    "#    del tail_off[d][\"count\"]"
   ]
  },
  {
   "cell_type": "code",
   "execution_count": 48,
   "metadata": {
    "colab": {},
    "colab_type": "code",
    "id": "deZE-gRQLiQl"
   },
   "outputs": [],
   "source": [
    "features = []\n",
    "key_words = {}\n",
    "wid = 0\n",
    "for d in tail_off:\n",
    "    if len(d) > 0:\n",
    "        key_words[d] = wid\n",
    "        wid += 1\n",
    "        features.append(dicc[d])"
   ]
  },
  {
   "cell_type": "code",
   "execution_count": 49,
   "metadata": {
    "colab": {},
    "colab_type": "code",
    "id": "mlVrxw7ILnqE"
   },
   "outputs": [],
   "source": [
    "from sklearn.feature_extraction import DictVectorizer\n",
    "v = DictVectorizer(sparse=False)\n",
    "matrix = v.fit_transform(features)"
   ]
  },
  {
   "cell_type": "code",
   "execution_count": 50,
   "metadata": {
    "colab": {},
    "colab_type": "code",
    "id": "wRkBq1_5Ltns"
   },
   "outputs": [],
   "source": [
    "matrix_normed = matrix / matrix.max(axis=0)\n",
    "variances = np.square(matrix_normed).mean(axis=0) - np.square(matrix_normed.mean(axis=0))\n",
    "threshold_v = 0.001\n",
    "red_matrix = np.delete(matrix_normed, np.where(variances < threshold_v), axis=1)"
   ]
  },
  {
   "cell_type": "code",
   "execution_count": 51,
   "metadata": {
    "colab": {
     "base_uri": "https://localhost:8080/",
     "height": 54
    },
    "colab_type": "code",
    "id": "8Vs0J7soLtep",
    "outputId": "8ca04929-6835-4ebc-ed99-859a44d8557e"
   },
   "outputs": [
    {
     "name": "stdout",
     "output_type": "stream",
     "text": [
      "CPU times: user 6.55 s, sys: 65.1 ms, total: 6.61 s\n",
      "Wall time: 6.87 s\n"
     ]
    }
   ],
   "source": [
    "%%time\n",
    "tsne = sklearn.manifold.TSNE(n_components=2, random_state=0)\n",
    "matrix_dicc2d = tsne.fit_transform(matrix_normed)"
   ]
  },
  {
   "cell_type": "code",
   "execution_count": 52,
   "metadata": {
    "colab": {},
    "colab_type": "code",
    "id": "7VBHvSxeLtRS"
   },
   "outputs": [],
   "source": [
    "pointsspacy = pd.DataFrame(\n",
    "    [\n",
    "        (word, coords[0], coords[1])\n",
    "        for word, coords in [\n",
    "            (word, matrix_dicc2d[key_words[word]])\n",
    "            for word in key_words\n",
    "        ]\n",
    "    ],\n",
    "    columns=[\"word\", \"x\", \"y\"]\n",
    ")"
   ]
  },
  {
   "cell_type": "code",
   "execution_count": 53,
   "metadata": {
    "colab": {
     "base_uri": "https://localhost:8080/",
     "height": 753
    },
    "colab_type": "code",
    "id": "FJ4LivAzL50e",
    "outputId": "3f1cd10d-ffeb-4708-d30f-38bba0a25807"
   },
   "outputs": [
    {
     "data": {
      "text/plain": [
       "<matplotlib.axes._subplots.AxesSubplot at 0x7fb0b9bc1050>"
      ]
     },
     "execution_count": 53,
     "metadata": {},
     "output_type": "execute_result"
    },
    {
     "data": {
      "image/png": "[encoded data removed]",
      "text/plain": [
       "<Figure size 1440x864 with 1 Axes>"
      ]
     },
     "metadata": {
      "needs_background": "light"
     },
     "output_type": "display_data"
    }
   ],
   "source": [
    "pointsspacy.plot.scatter(\"x\", \"y\", s=10, figsize=(20, 12))"
   ]
  },
  {
   "cell_type": "code",
   "execution_count": 54,
   "metadata": {
    "colab": {},
    "colab_type": "code",
    "id": "Kc_WrygFMBMF"
   },
   "outputs": [],
   "source": [
    "def clustering(k):\n",
    "    clusterer = kmeans.KMeansClusterer(k, cosine_distance, avoid_empty_clusters=True)\n",
    "    clusters = clusterer.cluster(red_matrix, True)\n",
    "    return clusters"
   ]
  },
  {
   "cell_type": "code",
   "execution_count": 55,
   "metadata": {
    "colab": {
     "base_uri": "https://localhost:8080/",
     "height": 54
    },
    "colab_type": "code",
    "id": "9WlkWhr0MGTl",
    "outputId": "e831af6f-e092-41f5-e548-ec84a3b56714"
   },
   "outputs": [
    {
     "name": "stdout",
     "output_type": "stream",
     "text": [
      "CPU times: user 6.43 s, sys: 127 ms, total: 6.56 s\n",
      "Wall time: 6.88 s\n"
     ]
    }
   ],
   "source": [
    "%%time\n",
    "c50 =  clustering(100)"
   ]
  },
  {
   "cell_type": "code",
   "execution_count": 56,
   "metadata": {
    "colab": {},
    "colab_type": "code",
    "id": "AQlzz90HMLK6"
   },
   "outputs": [],
   "source": [
    "pointscluster = pd.DataFrame(\n",
    "    [\n",
    "        (word, coords[0], coords[1], cluster)\n",
    "        for word, coords, cluster in [\n",
    "            (word, matrix_dicc2d[key_words[word]], c50[key_words[word]])\n",
    "            for word in key_words\n",
    "        ]\n",
    "    ],\n",
    "    columns=[\"word\", \"x\", \"y\", \"c\"]\n",
    ")"
   ]
  },
  {
   "cell_type": "code",
   "execution_count": 57,
   "metadata": {
    "colab": {
     "base_uri": "https://localhost:8080/",
     "height": 728
    },
    "colab_type": "code",
    "id": "nOLcYbf_MO3f",
    "outputId": "8de77d6f-e9b7-42c9-e6fc-9d1792620559"
   },
   "outputs": [
    {
     "data": {
      "text/plain": [
       "<matplotlib.axes._subplots.AxesSubplot at 0x7fb0b4ea2bd0>"
      ]
     },
     "execution_count": 57,
     "metadata": {},
     "output_type": "execute_result"
    },
    {
     "data": {
      "image/png": "[encoded data removed]",
      "text/plain": [
       "<Figure size 1440x864 with 2 Axes>"
      ]
     },
     "metadata": {
      "needs_background": "light"
     },
     "output_type": "display_data"
    }
   ],
   "source": [
    "pointscluster.plot.scatter(x='x', y='y', c='c', cmap='viridis', s=10, figsize=(20, 12))"
   ]
  },
  {
   "cell_type": "code",
   "execution_count": 58,
   "metadata": {
    "colab": {
     "base_uri": "https://localhost:8080/",
     "height": 35
    },
    "colab_type": "code",
    "id": "XAuXnTRTM4-O",
    "outputId": "82c2ea9b-aed7-497a-9829-83fe40a9cead"
   },
   "outputs": [
    {
     "name": "stdout",
     "output_type": "stream",
     "text": [
      "['EEUU', 'Estado', 'Gobierno', 'PP', 'Europa']\n"
     ]
    }
   ],
   "source": [
    "printer = [word for word in key_words if c50[key_words[word]] == c50[key_words[\"EEUU\"]]]\n",
    "print(printer)"
   ]
  },
  {
   "cell_type": "code",
   "execution_count": 59,
   "metadata": {
    "colab": {
     "base_uri": "https://localhost:8080/",
     "height": 1000
    },
    "colab_type": "code",
    "id": "hbEQRb_IsvvS",
    "outputId": "3ea3c3d3-c6a9-4684-abd6-d96f74333a27"
   },
   "outputs": [
    {
     "name": "stdout",
     "output_type": "stream",
     "text": [
      "0  ::  ['alto', 'nuevo', 'europeo', 'principal', 'bueno', 'grande', 'mejor', 'especial', 'pequeño', 'disponible', 'próximo', 'anterior']\n",
      "1  ::  ['cultura', 'información', 'televisión', 'servicio', 'equipar', 'derecho', 'grupo', 'niño', 'torturar', 'vivienda']\n",
      "2  ::  ['seis']\n",
      "3  ::  ['trabajar', 'esperar']\n",
      "4  ::  ['Irak']\n",
      "5  ::  ['conseguir', 'presenciar', 'viajar', 'funcionar']\n",
      "6  ::  ['Con']\n",
      "7  ::  ['tener', 'tratar', 'existir']\n",
      "8  ::  ['asegurar', 'mantener', 'ver', 'creer', 'informar', 'afirmar']\n",
      "9  ::  ['me', 'nuestro', 'mi']\n",
      "10  ::  ['DE', 'EN', 'DEL']\n",
      "11  ::  ['real']\n",
      "12  ::  ['decisión']\n",
      "13  ::  ['director', 'hombre', 'unir', 'millón', 'secretario', 'presidente']\n",
      "14  ::  ['poder', 'haber', 'ser', 'estar', 'Es', 'deber']\n",
      "15  ::  ['mañana']\n",
      "16  ::  ['centrar']\n",
      "17  ::  ['producir', 'intentar', 'llegar', 'cerrar', 'suponer', 'morir', 'demostrar', 'obligar', 'anunciar', 'conocer']\n",
      "18  ::  ['sobrar', 'sino']\n",
      "19  ::  ['más', 'También', 'ayer', 'ya', 'tan', 'ahora', 'Además', 'muy', 'aun', 'además', 'nunca']\n",
      "20  ::  ['cárcel', 'punto', 'preciar', 'zona']\n",
      "21  ::  ['llamar', 'disponer', 'publicar', 'pasar', 'abrir', 'vestir', 'afectar', 'prever', 'privar', 'acusar']\n",
      "22  ::  ['euro', 'peseta']\n",
      "23  ::  ['él', 'día', 'noche']\n",
      "24  ::  ['se']\n",
      "25  ::  ['durante']\n",
      "26  ::  ['cambiar', 'debatir']\n",
      "27  ::  ['semana', 'acto']\n",
      "28  ::  ['Catalunya', 'Barcelona', 'Madrid', 'CiU', 'Generalitat', 'España', 'UE']\n",
      "29  ::  ['estadounidense', 'público', 'general', 'militar', 'iraquí']\n",
      "30  ::  ['británico', 'único', 'mejorar', 'mayor', 'posible', 'catalán', 'oficial', 'francés', 'españolar', 'social', 'económico']\n",
      "31  ::  ['tanto', 'pesar', 'ejemplo', 'embargar']\n",
      "32  ::  ['mercar']\n",
      "33  ::  ['ante']\n",
      "34  ::  ['todo']\n",
      "35  ::  ['Se']\n",
      "36  ::  ['le', 'les']\n",
      "37  ::  ['Govern']\n",
      "38  ::  ['tardar', 'hijo', 'sistema']\n",
      "39  ::  ['dirigir', 'parecer']\n",
      "40  ::  ['lengua']\n",
      "41  ::  ['lugar', 'partir', 'hora', 'contar', 'frente', 'cargar', 'falto']\n",
      "42  ::  ['ganar', 'pagar', 'saber']\n",
      "43  ::  ['tomar', 'participar', 'llevar', 'perder', 'hacer', 'salir', 'pedir', 'presentar', 'utilizar', 'dar', 'convertir']\n",
      "44  ::  ['propio', 'gran']\n",
      "45  ::  ['porque']\n",
      "46  ::  ['vez', 'donde', 'archivar']\n",
      "47  ::  ['no']\n",
      "48  ::  ['cómo', 'qué']\n",
      "49  ::  ['ni']\n",
      "50  ::  ['querer', 'dejar', 'poner']\n",
      "51  ::  ['BARCELONA', 'Zapatero', 'MADRID']\n",
      "52  ::  ['de', 'desde', 'a', 'sin', 'y', 'parir', 'en', 'del', 'o', 'que', 'al', 'con', 'e', 'por', 'contra', 'De', 'quien', 'pero', 'tras', 'Según', 'según', 'hasta', 'A', 'Al', 'Para']\n",
      "53  ::  ['ofrecer', 'recordar', 'quedar', 'mostrar', 'provocar', 'celebrar', 'permitir', 'vivir', 'incluir', 'recibir', 'acabar', 'iniciar', 'sufrir', 'decidir', 'aumentar', 'proponer']\n",
      "54  ::  ['Un']\n",
      "55  ::  ['año']\n",
      "56  ::  ['empresa']\n",
      "57  ::  ['sí']\n",
      "58  ::  ['subir', 'añadir']\n",
      "59  ::  ['novelar', 'plaza']\n",
      "60  ::  ['ir', 'entrar', 'volver']\n",
      "61  ::  ['Pero']\n",
      "62  ::  ['poco']\n",
      "63  ::  ['realizar', 'reducir']\n",
      "64  ::  ['si', 'cuando', 'comer', 'aunque']\n",
      "65  ::  ['seguir', 'denunciar', 'hablar', 'bajar']\n",
      "66  ::  ['No']\n",
      "67  ::  ['librar', 'político', 'mediar', 'caro', 'final', 'técnico', 'joven', 'futuro', 'vecino', 'ciudadano']\n",
      "68  ::  ['casar', 'momento', 'acordar']\n",
      "69  ::  ['importante']\n",
      "70  ::  ['obrar', 'mujer', 'músico', 'vía', 'autor', 'ministro', 'conseller']\n",
      "71  ::  ['medir', 'soldar', 'situación', 'problema', 'coser', 'ley', 'policía', 'gente', 'víctima', 'personar']\n",
      "72  ::  ['Si']\n",
      "73  ::  ['La', 'lo', 'El', 'el', 'este', 'los', 'uno', 'Los', 'su', 'ese', 'Lo', 'Las']\n",
      "74  ::  ['responsable', 'nombrar', 'portavoz']\n",
      "75  ::  ['En']\n",
      "76  ::  ['Y']\n",
      "77  ::  ['medio', 'vida']\n",
      "78  ::  ['do', 'tres', 'cuatro', 'cincar']\n",
      "79  ::  ['LA', 'EL']\n",
      "80  ::  ['citar', 'visitar', 'usar', 'estudiar']\n",
      "81  ::  ['temer', 'jugar', 'resultar', 'sentir']\n",
      "82  ::  ['antes', 'también', 'siempre', 'después', 'hoy', 'casi']\n",
      "83  ::  ['otro', 'mismo', 'alguno', 'algo', 'cada', 'mucho', 'ninguno', 'nadar']\n",
      "84  ::  ['EEUU', 'Estado', 'Gobierno', 'PP', 'Europa']\n",
      "85  ::  ['José', 'Joan', 'Información', 'The']\n",
      "86  ::  ['Por']\n",
      "87  ::  ['segundar', 'primero', '\\ufeff1', 'último']\n",
      "88  ::  ['actual']\n",
      "89  ::  ['PERIÓDICO']\n",
      "90  ::  ['marcar', 'relacionar', 'formar', 'invitar']\n",
      "91  ::  ['diario', 'familia', 'papel', 'elección', 'organización', 'líneo', 'éxito', 'recinto', 'boda']\n",
      "92  ::  ['Este', 'Fòrum', 'Barça']\n",
      "93  ::  ['guerra', 'programar', 'película', 'alcalde', 'historia', 'número', 'tipo', 'mundo', 'imagen']\n",
      "94  ::  ['seguridad', 'país', 'preso', 'diálogo', 'ellos', 'formato', 'prisión', 'cuyo', 'ciudad']\n",
      "95  ::  ['coche', 'plan']\n",
      "96  ::  ['menos', 'asir', 'sólo', 'bien']\n",
      "97  ::  ['Una']\n",
      "98  ::  ['tiempo', 'mesar', 'listo', 'fuente', 'declaración']\n",
      "99  ::  ['mientras', 'encontrar', 'decir', 'destacar', 'indicar', 'considerar', 'reconocer', 'explicar']\n"
     ]
    }
   ],
   "source": [
    "printer_dic={}\n",
    "for word in key_words:\n",
    "    if c50[key_words[word]] not in printer_dic:\n",
    "        printer_dic[c50[key_words[word]]] = [word]\n",
    "    else:\n",
    "        printer_dic[c50[key_words[word]]].append(word)\n",
    "for key in sorted(printer_dic.keys()) :\n",
    "    print(key , \" :: \" , printer_dic[key])"
   ]
  },
  {
   "cell_type": "code",
   "execution_count": null,
   "metadata": {},
   "outputs": [],
   "source": []
  }
 ],
 "metadata": {
  "colab": {
   "collapsed_sections": [],
   "machine_shape": "hm",
   "name": "Untitled1.ipynb",
   "provenance": []
  },
  "kernelspec": {
   "display_name": "Python 3",
   "language": "python",
   "name": "python3"
  },
  "language_info": {
   "codemirror_mode": {
    "name": "ipython",
    "version": 3
   },
   "file_extension": ".py",
   "mimetype": "text/x-python",
   "name": "python",
   "nbconvert_exporter": "python",
   "pygments_lexer": "ipython3",
   "version": "3.7.4"
  }
 },
 "nbformat": 4,
 "nbformat_minor": 1
}
